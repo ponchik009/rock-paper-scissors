{
  "cells": [
    {
      "cell_type": "code",
      "execution_count": 45,
      "metadata": {
        "id": "igMyGnjE9hEp"
      },
      "outputs": [],
      "source": [
        "import csv\n",
        "\n",
        "import numpy as np\n",
        "import tensorflow as tf\n",
        "from sklearn.model_selection import train_test_split\n",
        "\n",
        "RANDOM_SEED = 42"
      ]
    },
    {
      "cell_type": "markdown",
      "metadata": {
        "id": "t2HDvhIu9hEr"
      },
      "source": [
        "# Specify each path"
      ]
    },
    {
      "cell_type": "code",
      "execution_count": 46,
      "metadata": {
        "id": "9NvZP2Zn9hEy"
      },
      "outputs": [],
      "source": [
        "dataset = 'model/keypoint_classifier/keypoint.csv'\n",
        "model_save_path = 'model/keypoint_classifier/keypoint_classifier.hdf5'\n",
        "tflite_save_path = 'model/keypoint_classifier/keypoint_classifier.tflite'"
      ]
    },
    {
      "cell_type": "markdown",
      "metadata": {
        "id": "s5oMH7x19hEz"
      },
      "source": [
        "# Set number of classes"
      ]
    },
    {
      "cell_type": "code",
      "execution_count": 47,
      "metadata": {
        "id": "du4kodXL9hEz"
      },
      "outputs": [],
      "source": [
        "NUM_CLASSES = 3"
      ]
    },
    {
      "cell_type": "markdown",
      "metadata": {
        "id": "XjnL0uso9hEz"
      },
      "source": [
        "# Dataset reading"
      ]
    },
    {
      "cell_type": "code",
      "execution_count": 48,
      "metadata": {
        "id": "QT5ZqtEz9hE0"
      },
      "outputs": [],
      "source": [
        "X_dataset = np.loadtxt(dataset, delimiter=',', dtype='float32', usecols=list(range(1, (21 * 2) + 1)))"
      ]
    },
    {
      "cell_type": "code",
      "execution_count": 49,
      "metadata": {
        "id": "QmoKFsp49hE0"
      },
      "outputs": [],
      "source": [
        "y_dataset = np.loadtxt(dataset, delimiter=',', dtype='int32', usecols=(0))"
      ]
    },
    {
      "cell_type": "code",
      "execution_count": 50,
      "metadata": {
        "id": "xQU7JTZ_9hE0"
      },
      "outputs": [],
      "source": [
        "X_train, X_test, y_train, y_test = train_test_split(X_dataset, y_dataset, train_size=0.75, random_state=RANDOM_SEED)"
      ]
    },
    {
      "cell_type": "markdown",
      "metadata": {
        "id": "mxK_lETT9hE0"
      },
      "source": [
        "# Model building"
      ]
    },
    {
      "cell_type": "code",
      "execution_count": 51,
      "metadata": {
        "id": "vHBmUf1t9hE1"
      },
      "outputs": [],
      "source": [
        "model = tf.keras.models.Sequential([\n",
        "    tf.keras.layers.Input((21 * 2, )),\n",
        "    tf.keras.layers.Dropout(0.2),\n",
        "    tf.keras.layers.Dense(20, activation='relu'),\n",
        "    tf.keras.layers.Dropout(0.4),\n",
        "    tf.keras.layers.Dense(10, activation='relu'),\n",
        "    tf.keras.layers.Dense(NUM_CLASSES, activation='softmax')\n",
        "])"
      ]
    },
    {
      "cell_type": "code",
      "execution_count": 52,
      "metadata": {
        "colab": {
          "base_uri": "https://localhost:8080/"
        },
        "id": "ypqky9tc9hE1",
        "outputId": "5db082bb-30e3-4110-bf63-a1ee777ecd46"
      },
      "outputs": [
        {
          "name": "stdout",
          "output_type": "stream",
          "text": [
            "Model: \"sequential_3\"\n",
            "_________________________________________________________________\n",
            " Layer (type)                Output Shape              Param #   \n",
            "=================================================================\n",
            " dropout_6 (Dropout)         (None, 42)                0         \n",
            "                                                                 \n",
            " dense_9 (Dense)             (None, 20)                860       \n",
            "                                                                 \n",
            " dropout_7 (Dropout)         (None, 20)                0         \n",
            "                                                                 \n",
            " dense_10 (Dense)            (None, 10)                210       \n",
            "                                                                 \n",
            " dense_11 (Dense)            (None, 3)                 33        \n",
            "                                                                 \n",
            "=================================================================\n",
            "Total params: 1,103\n",
            "Trainable params: 1,103\n",
            "Non-trainable params: 0\n",
            "_________________________________________________________________\n"
          ]
        }
      ],
      "source": [
        "model.summary()  # tf.keras.utils.plot_model(model, show_shapes=True)"
      ]
    },
    {
      "cell_type": "code",
      "execution_count": 53,
      "metadata": {
        "id": "MbMjOflQ9hE1"
      },
      "outputs": [],
      "source": [
        "# Model checkpoint callback\n",
        "cp_callback = tf.keras.callbacks.ModelCheckpoint(\n",
        "    model_save_path, verbose=1, save_weights_only=False)\n",
        "# Callback for early stopping\n",
        "es_callback = tf.keras.callbacks.EarlyStopping(patience=20, verbose=1)"
      ]
    },
    {
      "cell_type": "code",
      "execution_count": 54,
      "metadata": {
        "id": "c3Dac0M_9hE2"
      },
      "outputs": [],
      "source": [
        "# Model compilation\n",
        "model.compile(\n",
        "    optimizer='adam',\n",
        "    loss='sparse_categorical_crossentropy',\n",
        "    metrics=['accuracy']\n",
        ")"
      ]
    },
    {
      "cell_type": "markdown",
      "metadata": {
        "id": "7XI0j1Iu9hE2"
      },
      "source": [
        "# Model training"
      ]
    },
    {
      "cell_type": "code",
      "execution_count": 55,
      "metadata": {
        "colab": {
          "base_uri": "https://localhost:8080/"
        },
        "id": "WirBl-JE9hE3",
        "outputId": "71b30ca2-8294-4d9d-8aa2-800d90d399de",
        "scrolled": true
      },
      "outputs": [
        {
          "name": "stdout",
          "output_type": "stream",
          "text": [
            "Epoch 1/1000\n",
            "20/23 [=========================>....] - ETA: 0s - loss: 1.0949 - accuracy: 0.4395 \n",
            "Epoch 1: saving model to model/keypoint_classifier\\keypoint_classifier.hdf5\n",
            "23/23 [==============================] - 2s 16ms/step - loss: 1.0957 - accuracy: 0.4394 - val_loss: 0.9944 - val_accuracy: 0.5962\n",
            "Epoch 2/1000\n",
            "21/23 [==========================>...] - ETA: 0s - loss: 1.0352 - accuracy: 0.4810\n",
            "Epoch 2: saving model to model/keypoint_classifier\\keypoint_classifier.hdf5\n",
            "23/23 [==============================] - 0s 7ms/step - loss: 1.0331 - accuracy: 0.4833 - val_loss: 0.9472 - val_accuracy: 0.6812\n",
            "Epoch 3/1000\n",
            "21/23 [==========================>...] - ETA: 0s - loss: 0.9950 - accuracy: 0.5119\n",
            "Epoch 3: saving model to model/keypoint_classifier\\keypoint_classifier.hdf5\n",
            "23/23 [==============================] - 0s 7ms/step - loss: 0.9922 - accuracy: 0.5156 - val_loss: 0.9097 - val_accuracy: 0.7109\n",
            "Epoch 4/1000\n",
            "19/23 [=======================>......] - ETA: 0s - loss: 0.9553 - accuracy: 0.5452\n",
            "Epoch 4: saving model to model/keypoint_classifier\\keypoint_classifier.hdf5\n",
            "23/23 [==============================] - 0s 9ms/step - loss: 0.9491 - accuracy: 0.5493 - val_loss: 0.8593 - val_accuracy: 0.7205\n",
            "Epoch 5/1000\n",
            "17/23 [=====================>........] - ETA: 0s - loss: 0.9196 - accuracy: 0.5689\n",
            "Epoch 5: saving model to model/keypoint_classifier\\keypoint_classifier.hdf5\n",
            "23/23 [==============================] - 0s 7ms/step - loss: 0.9158 - accuracy: 0.5709 - val_loss: 0.8169 - val_accuracy: 0.7545\n",
            "Epoch 6/1000\n",
            "12/23 [==============>...............] - ETA: 0s - loss: 0.9019 - accuracy: 0.5820\n",
            "Epoch 6: saving model to model/keypoint_classifier\\keypoint_classifier.hdf5\n",
            "23/23 [==============================] - 0s 9ms/step - loss: 0.8939 - accuracy: 0.5889 - val_loss: 0.7776 - val_accuracy: 0.7662\n",
            "Epoch 7/1000\n",
            "22/23 [===========================>..] - ETA: 0s - loss: 0.8631 - accuracy: 0.6076\n",
            "Epoch 7: saving model to model/keypoint_classifier\\keypoint_classifier.hdf5\n",
            "23/23 [==============================] - 0s 6ms/step - loss: 0.8626 - accuracy: 0.6081 - val_loss: 0.7348 - val_accuracy: 0.7630\n",
            "Epoch 8/1000\n",
            "22/23 [===========================>..] - ETA: 0s - loss: 0.8287 - accuracy: 0.6307\n",
            "Epoch 8: saving model to model/keypoint_classifier\\keypoint_classifier.hdf5\n",
            "23/23 [==============================] - 0s 7ms/step - loss: 0.8283 - accuracy: 0.6311 - val_loss: 0.6917 - val_accuracy: 0.7694\n",
            "Epoch 9/1000\n",
            "20/23 [=========================>....] - ETA: 0s - loss: 0.8085 - accuracy: 0.6379\n",
            "Epoch 9: saving model to model/keypoint_classifier\\keypoint_classifier.hdf5\n",
            "23/23 [==============================] - 0s 7ms/step - loss: 0.8104 - accuracy: 0.6364 - val_loss: 0.6466 - val_accuracy: 0.7768\n",
            "Epoch 10/1000\n",
            "20/23 [=========================>....] - ETA: 0s - loss: 0.7812 - accuracy: 0.6473\n",
            "Epoch 10: saving model to model/keypoint_classifier\\keypoint_classifier.hdf5\n",
            "23/23 [==============================] - 0s 7ms/step - loss: 0.7883 - accuracy: 0.6428 - val_loss: 0.6204 - val_accuracy: 0.7853\n",
            "Epoch 11/1000\n",
            "20/23 [=========================>....] - ETA: 0s - loss: 0.7708 - accuracy: 0.6539\n",
            "Epoch 11: saving model to model/keypoint_classifier\\keypoint_classifier.hdf5\n",
            "23/23 [==============================] - 0s 8ms/step - loss: 0.7668 - accuracy: 0.6563 - val_loss: 0.5966 - val_accuracy: 0.7885\n",
            "Epoch 12/1000\n",
            "22/23 [===========================>..] - ETA: 0s - loss: 0.7502 - accuracy: 0.6687\n",
            "Epoch 12: saving model to model/keypoint_classifier\\keypoint_classifier.hdf5\n",
            "23/23 [==============================] - 0s 8ms/step - loss: 0.7498 - accuracy: 0.6690 - val_loss: 0.5709 - val_accuracy: 0.7938\n",
            "Epoch 13/1000\n",
            "14/23 [=================>............] - ETA: 0s - loss: 0.7324 - accuracy: 0.6674\n",
            "Epoch 13: saving model to model/keypoint_classifier\\keypoint_classifier.hdf5\n",
            "23/23 [==============================] - 0s 9ms/step - loss: 0.7207 - accuracy: 0.6726 - val_loss: 0.5433 - val_accuracy: 0.7981\n",
            "Epoch 14/1000\n",
            "22/23 [===========================>..] - ETA: 0s - loss: 0.7211 - accuracy: 0.6754\n",
            "Epoch 14: saving model to model/keypoint_classifier\\keypoint_classifier.hdf5\n",
            "23/23 [==============================] - 0s 6ms/step - loss: 0.7210 - accuracy: 0.6758 - val_loss: 0.5193 - val_accuracy: 0.8002\n",
            "Epoch 15/1000\n",
            "21/23 [==========================>...] - ETA: 0s - loss: 0.6910 - accuracy: 0.6905\n",
            "Epoch 15: saving model to model/keypoint_classifier\\keypoint_classifier.hdf5\n",
            "23/23 [==============================] - 0s 6ms/step - loss: 0.6910 - accuracy: 0.6917 - val_loss: 0.4935 - val_accuracy: 0.8034\n",
            "Epoch 16/1000\n",
            "21/23 [==========================>...] - ETA: 0s - loss: 0.6931 - accuracy: 0.6916\n",
            "Epoch 16: saving model to model/keypoint_classifier\\keypoint_classifier.hdf5\n",
            "23/23 [==============================] - 0s 7ms/step - loss: 0.6936 - accuracy: 0.6906 - val_loss: 0.4757 - val_accuracy: 0.8332\n",
            "Epoch 17/1000\n",
            "19/23 [=======================>......] - ETA: 0s - loss: 0.6754 - accuracy: 0.6945\n",
            "Epoch 17: saving model to model/keypoint_classifier\\keypoint_classifier.hdf5\n",
            "23/23 [==============================] - 0s 7ms/step - loss: 0.6742 - accuracy: 0.6935 - val_loss: 0.4593 - val_accuracy: 0.8629\n",
            "Epoch 18/1000\n",
            "16/23 [===================>..........] - ETA: 0s - loss: 0.6641 - accuracy: 0.7002\n",
            "Epoch 18: saving model to model/keypoint_classifier\\keypoint_classifier.hdf5\n",
            "23/23 [==============================] - 0s 9ms/step - loss: 0.6664 - accuracy: 0.7016 - val_loss: 0.4490 - val_accuracy: 0.8735\n",
            "Epoch 19/1000\n",
            "16/23 [===================>..........] - ETA: 0s - loss: 0.6501 - accuracy: 0.7090\n",
            "Epoch 19: saving model to model/keypoint_classifier\\keypoint_classifier.hdf5\n",
            "23/23 [==============================] - 0s 7ms/step - loss: 0.6427 - accuracy: 0.7147 - val_loss: 0.4340 - val_accuracy: 0.8789\n",
            "Epoch 20/1000\n",
            "21/23 [==========================>...] - ETA: 0s - loss: 0.6434 - accuracy: 0.7191\n",
            "Epoch 20: saving model to model/keypoint_classifier\\keypoint_classifier.hdf5\n",
            "23/23 [==============================] - 0s 6ms/step - loss: 0.6454 - accuracy: 0.7183 - val_loss: 0.4228 - val_accuracy: 0.8810\n",
            "Epoch 21/1000\n",
            "21/23 [==========================>...] - ETA: 0s - loss: 0.6413 - accuracy: 0.7057\n",
            "Epoch 21: saving model to model/keypoint_classifier\\keypoint_classifier.hdf5\n",
            "23/23 [==============================] - 0s 7ms/step - loss: 0.6418 - accuracy: 0.7048 - val_loss: 0.4144 - val_accuracy: 0.8895\n",
            "Epoch 22/1000\n",
            "19/23 [=======================>......] - ETA: 0s - loss: 0.6224 - accuracy: 0.7192\n",
            "Epoch 22: saving model to model/keypoint_classifier\\keypoint_classifier.hdf5\n",
            "23/23 [==============================] - 0s 7ms/step - loss: 0.6285 - accuracy: 0.7162 - val_loss: 0.3999 - val_accuracy: 0.8916\n",
            "Epoch 23/1000\n",
            "19/23 [=======================>......] - ETA: 0s - loss: 0.6285 - accuracy: 0.7097\n",
            "Epoch 23: saving model to model/keypoint_classifier\\keypoint_classifier.hdf5\n",
            "23/23 [==============================] - 0s 7ms/step - loss: 0.6224 - accuracy: 0.7108 - val_loss: 0.3925 - val_accuracy: 0.8874\n",
            "Epoch 24/1000\n",
            "21/23 [==========================>...] - ETA: 0s - loss: 0.6104 - accuracy: 0.7269\n",
            "Epoch 24: saving model to model/keypoint_classifier\\keypoint_classifier.hdf5\n",
            "23/23 [==============================] - 0s 6ms/step - loss: 0.6120 - accuracy: 0.7254 - val_loss: 0.3825 - val_accuracy: 0.9044\n",
            "Epoch 25/1000\n",
            "21/23 [==========================>...] - ETA: 0s - loss: 0.6296 - accuracy: 0.7206\n",
            "Epoch 25: saving model to model/keypoint_classifier\\keypoint_classifier.hdf5\n",
            "23/23 [==============================] - 0s 7ms/step - loss: 0.6282 - accuracy: 0.7229 - val_loss: 0.3772 - val_accuracy: 0.9054\n",
            "Epoch 26/1000\n",
            "21/23 [==========================>...] - ETA: 0s - loss: 0.6006 - accuracy: 0.7333\n",
            "Epoch 26: saving model to model/keypoint_classifier\\keypoint_classifier.hdf5\n",
            "23/23 [==============================] - 0s 7ms/step - loss: 0.6035 - accuracy: 0.7321 - val_loss: 0.3680 - val_accuracy: 0.9192\n",
            "Epoch 27/1000\n",
            "21/23 [==========================>...] - ETA: 0s - loss: 0.5962 - accuracy: 0.7355\n",
            "Epoch 27: saving model to model/keypoint_classifier\\keypoint_classifier.hdf5\n",
            "23/23 [==============================] - 0s 6ms/step - loss: 0.5999 - accuracy: 0.7360 - val_loss: 0.3562 - val_accuracy: 0.9171\n",
            "Epoch 28/1000\n",
            "21/23 [==========================>...] - ETA: 0s - loss: 0.6011 - accuracy: 0.7433\n",
            "Epoch 28: saving model to model/keypoint_classifier\\keypoint_classifier.hdf5\n",
            "23/23 [==============================] - 0s 7ms/step - loss: 0.5997 - accuracy: 0.7445 - val_loss: 0.3501 - val_accuracy: 0.9394\n",
            "Epoch 29/1000\n",
            "20/23 [=========================>....] - ETA: 0s - loss: 0.5982 - accuracy: 0.7398\n",
            "Epoch 29: saving model to model/keypoint_classifier\\keypoint_classifier.hdf5\n",
            "23/23 [==============================] - 0s 7ms/step - loss: 0.5988 - accuracy: 0.7378 - val_loss: 0.3452 - val_accuracy: 0.9458\n",
            "Epoch 30/1000\n",
            "14/23 [=================>............] - ETA: 0s - loss: 0.5885 - accuracy: 0.7595\n",
            "Epoch 30: saving model to model/keypoint_classifier\\keypoint_classifier.hdf5\n",
            "23/23 [==============================] - 0s 8ms/step - loss: 0.5875 - accuracy: 0.7569 - val_loss: 0.3422 - val_accuracy: 0.9469\n",
            "Epoch 31/1000\n",
            " 1/23 [>.............................] - ETA: 0s - loss: 0.5431 - accuracy: 0.7812\n",
            "Epoch 31: saving model to model/keypoint_classifier\\keypoint_classifier.hdf5\n",
            "23/23 [==============================] - 0s 6ms/step - loss: 0.5726 - accuracy: 0.7644 - val_loss: 0.3306 - val_accuracy: 0.9490\n",
            "Epoch 32/1000\n",
            "21/23 [==========================>...] - ETA: 0s - loss: 0.5731 - accuracy: 0.7556\n",
            "Epoch 32: saving model to model/keypoint_classifier\\keypoint_classifier.hdf5\n",
            "23/23 [==============================] - 0s 6ms/step - loss: 0.5713 - accuracy: 0.7569 - val_loss: 0.3222 - val_accuracy: 0.9511\n",
            "Epoch 33/1000\n",
            "19/23 [=======================>......] - ETA: 0s - loss: 0.5706 - accuracy: 0.7537\n",
            "Epoch 33: saving model to model/keypoint_classifier\\keypoint_classifier.hdf5\n",
            "23/23 [==============================] - 0s 12ms/step - loss: 0.5648 - accuracy: 0.7562 - val_loss: 0.3238 - val_accuracy: 0.9490\n",
            "Epoch 34/1000\n",
            "15/23 [==================>...........] - ETA: 0s - loss: 0.5668 - accuracy: 0.7620\n",
            "Epoch 34: saving model to model/keypoint_classifier\\keypoint_classifier.hdf5\n",
            "23/23 [==============================] - 0s 8ms/step - loss: 0.5632 - accuracy: 0.7619 - val_loss: 0.3192 - val_accuracy: 0.9554\n",
            "Epoch 35/1000\n",
            "16/23 [===================>..........] - ETA: 0s - loss: 0.5518 - accuracy: 0.7739\n",
            "Epoch 35: saving model to model/keypoint_classifier\\keypoint_classifier.hdf5\n",
            "23/23 [==============================] - 0s 7ms/step - loss: 0.5460 - accuracy: 0.7775 - val_loss: 0.3113 - val_accuracy: 0.9564\n",
            "Epoch 36/1000\n",
            "19/23 [=======================>......] - ETA: 0s - loss: 0.5551 - accuracy: 0.7673\n",
            "Epoch 36: saving model to model/keypoint_classifier\\keypoint_classifier.hdf5\n",
            "23/23 [==============================] - 0s 8ms/step - loss: 0.5565 - accuracy: 0.7672 - val_loss: 0.2994 - val_accuracy: 0.9554\n",
            "Epoch 37/1000\n",
            "16/23 [===================>..........] - ETA: 0s - loss: 0.5620 - accuracy: 0.7612\n",
            "Epoch 37: saving model to model/keypoint_classifier\\keypoint_classifier.hdf5\n",
            "23/23 [==============================] - 0s 7ms/step - loss: 0.5486 - accuracy: 0.7668 - val_loss: 0.2964 - val_accuracy: 0.9564\n",
            "Epoch 38/1000\n",
            "15/23 [==================>...........] - ETA: 0s - loss: 0.5259 - accuracy: 0.7729\n",
            "Epoch 38: saving model to model/keypoint_classifier\\keypoint_classifier.hdf5\n",
            "23/23 [==============================] - 0s 7ms/step - loss: 0.5211 - accuracy: 0.7771 - val_loss: 0.2865 - val_accuracy: 0.9586\n",
            "Epoch 39/1000\n",
            "15/23 [==================>...........] - ETA: 0s - loss: 0.5306 - accuracy: 0.7734\n",
            "Epoch 39: saving model to model/keypoint_classifier\\keypoint_classifier.hdf5\n",
            "23/23 [==============================] - 0s 8ms/step - loss: 0.5260 - accuracy: 0.7757 - val_loss: 0.2751 - val_accuracy: 0.9596\n",
            "Epoch 40/1000\n",
            "17/23 [=====================>........] - ETA: 0s - loss: 0.5412 - accuracy: 0.7739\n",
            "Epoch 40: saving model to model/keypoint_classifier\\keypoint_classifier.hdf5\n",
            "23/23 [==============================] - 0s 7ms/step - loss: 0.5405 - accuracy: 0.7746 - val_loss: 0.2766 - val_accuracy: 0.9586\n",
            "Epoch 41/1000\n",
            "18/23 [======================>.......] - ETA: 0s - loss: 0.5254 - accuracy: 0.7826\n",
            "Epoch 41: saving model to model/keypoint_classifier\\keypoint_classifier.hdf5\n",
            "23/23 [==============================] - 0s 7ms/step - loss: 0.5235 - accuracy: 0.7821 - val_loss: 0.2742 - val_accuracy: 0.9586\n",
            "Epoch 42/1000\n",
            "15/23 [==================>...........] - ETA: 0s - loss: 0.4966 - accuracy: 0.7990\n",
            "Epoch 42: saving model to model/keypoint_classifier\\keypoint_classifier.hdf5\n",
            "23/23 [==============================] - 0s 7ms/step - loss: 0.4979 - accuracy: 0.7994 - val_loss: 0.2623 - val_accuracy: 0.9649\n",
            "Epoch 43/1000\n",
            "17/23 [=====================>........] - ETA: 0s - loss: 0.5247 - accuracy: 0.7877\n",
            "Epoch 43: saving model to model/keypoint_classifier\\keypoint_classifier.hdf5\n",
            "23/23 [==============================] - 0s 7ms/step - loss: 0.5161 - accuracy: 0.7899 - val_loss: 0.2642 - val_accuracy: 0.9617\n",
            "Epoch 44/1000\n",
            "13/23 [===============>..............] - ETA: 0s - loss: 0.4983 - accuracy: 0.8011\n",
            "Epoch 44: saving model to model/keypoint_classifier\\keypoint_classifier.hdf5\n",
            "23/23 [==============================] - 0s 8ms/step - loss: 0.5223 - accuracy: 0.7884 - val_loss: 0.2606 - val_accuracy: 0.9607\n",
            "Epoch 45/1000\n",
            "15/23 [==================>...........] - ETA: 0s - loss: 0.5294 - accuracy: 0.7812\n",
            "Epoch 45: saving model to model/keypoint_classifier\\keypoint_classifier.hdf5\n",
            "23/23 [==============================] - 0s 8ms/step - loss: 0.5244 - accuracy: 0.7831 - val_loss: 0.2637 - val_accuracy: 0.9617\n",
            "Epoch 46/1000\n",
            "16/23 [===================>..........] - ETA: 0s - loss: 0.4904 - accuracy: 0.8018\n",
            "Epoch 46: saving model to model/keypoint_classifier\\keypoint_classifier.hdf5\n",
            "23/23 [==============================] - 0s 7ms/step - loss: 0.5015 - accuracy: 0.7948 - val_loss: 0.2522 - val_accuracy: 0.9649\n",
            "Epoch 47/1000\n",
            "17/23 [=====================>........] - ETA: 0s - loss: 0.5046 - accuracy: 0.8019\n",
            "Epoch 47: saving model to model/keypoint_classifier\\keypoint_classifier.hdf5\n",
            "23/23 [==============================] - 0s 7ms/step - loss: 0.5054 - accuracy: 0.7973 - val_loss: 0.2476 - val_accuracy: 0.9639\n",
            "Epoch 48/1000\n",
            "17/23 [=====================>........] - ETA: 0s - loss: 0.5034 - accuracy: 0.7978\n",
            "Epoch 48: saving model to model/keypoint_classifier\\keypoint_classifier.hdf5\n",
            "23/23 [==============================] - 0s 8ms/step - loss: 0.5039 - accuracy: 0.7948 - val_loss: 0.2441 - val_accuracy: 0.9660\n",
            "Epoch 49/1000\n",
            "16/23 [===================>..........] - ETA: 0s - loss: 0.5208 - accuracy: 0.7944\n",
            "Epoch 49: saving model to model/keypoint_classifier\\keypoint_classifier.hdf5\n",
            "23/23 [==============================] - 0s 7ms/step - loss: 0.5132 - accuracy: 0.7973 - val_loss: 0.2418 - val_accuracy: 0.9649\n",
            "Epoch 50/1000\n",
            "17/23 [=====================>........] - ETA: 0s - loss: 0.5120 - accuracy: 0.7923\n",
            "Epoch 50: saving model to model/keypoint_classifier\\keypoint_classifier.hdf5\n",
            "23/23 [==============================] - 0s 8ms/step - loss: 0.5125 - accuracy: 0.7923 - val_loss: 0.2375 - val_accuracy: 0.9671\n",
            "Epoch 51/1000\n",
            "17/23 [=====================>........] - ETA: 0s - loss: 0.4890 - accuracy: 0.8079\n",
            "Epoch 51: saving model to model/keypoint_classifier\\keypoint_classifier.hdf5\n",
            "23/23 [==============================] - 0s 8ms/step - loss: 0.4833 - accuracy: 0.8101 - val_loss: 0.2414 - val_accuracy: 0.9639\n",
            "Epoch 52/1000\n",
            "16/23 [===================>..........] - ETA: 0s - loss: 0.4982 - accuracy: 0.7964\n",
            "Epoch 52: saving model to model/keypoint_classifier\\keypoint_classifier.hdf5\n",
            "23/23 [==============================] - 0s 8ms/step - loss: 0.4931 - accuracy: 0.7998 - val_loss: 0.2363 - val_accuracy: 0.9649\n",
            "Epoch 53/1000\n",
            "17/23 [=====================>........] - ETA: 0s - loss: 0.4785 - accuracy: 0.8047\n",
            "Epoch 53: saving model to model/keypoint_classifier\\keypoint_classifier.hdf5\n",
            "23/23 [==============================] - 0s 7ms/step - loss: 0.4986 - accuracy: 0.7931 - val_loss: 0.2306 - val_accuracy: 0.9628\n",
            "Epoch 54/1000\n",
            "16/23 [===================>..........] - ETA: 0s - loss: 0.4743 - accuracy: 0.8052\n",
            "Epoch 54: saving model to model/keypoint_classifier\\keypoint_classifier.hdf5\n",
            "23/23 [==============================] - 0s 7ms/step - loss: 0.4785 - accuracy: 0.8030 - val_loss: 0.2316 - val_accuracy: 0.9628\n",
            "Epoch 55/1000\n",
            "15/23 [==================>...........] - ETA: 0s - loss: 0.4818 - accuracy: 0.8109\n",
            "Epoch 55: saving model to model/keypoint_classifier\\keypoint_classifier.hdf5\n",
            "23/23 [==============================] - 0s 8ms/step - loss: 0.4760 - accuracy: 0.8129 - val_loss: 0.2224 - val_accuracy: 0.9681\n",
            "Epoch 56/1000\n",
            "14/23 [=================>............] - ETA: 0s - loss: 0.4875 - accuracy: 0.7935\n",
            "Epoch 56: saving model to model/keypoint_classifier\\keypoint_classifier.hdf5\n",
            "23/23 [==============================] - 0s 8ms/step - loss: 0.4760 - accuracy: 0.8023 - val_loss: 0.2167 - val_accuracy: 0.9692\n",
            "Epoch 57/1000\n",
            "18/23 [======================>.......] - ETA: 0s - loss: 0.4692 - accuracy: 0.8116\n",
            "Epoch 57: saving model to model/keypoint_classifier\\keypoint_classifier.hdf5\n",
            "23/23 [==============================] - 0s 7ms/step - loss: 0.4723 - accuracy: 0.8108 - val_loss: 0.2154 - val_accuracy: 0.9681\n",
            "Epoch 58/1000\n",
            "16/23 [===================>..........] - ETA: 0s - loss: 0.4740 - accuracy: 0.8130\n",
            "Epoch 58: saving model to model/keypoint_classifier\\keypoint_classifier.hdf5\n",
            "23/23 [==============================] - 0s 11ms/step - loss: 0.4605 - accuracy: 0.8118 - val_loss: 0.2161 - val_accuracy: 0.9702\n",
            "Epoch 59/1000\n",
            "16/23 [===================>..........] - ETA: 0s - loss: 0.5001 - accuracy: 0.7993\n",
            "Epoch 59: saving model to model/keypoint_classifier\\keypoint_classifier.hdf5\n",
            "23/23 [==============================] - 0s 7ms/step - loss: 0.4852 - accuracy: 0.8005 - val_loss: 0.2115 - val_accuracy: 0.9671\n",
            "Epoch 60/1000\n",
            "18/23 [======================>.......] - ETA: 0s - loss: 0.5000 - accuracy: 0.7956\n",
            "Epoch 60: saving model to model/keypoint_classifier\\keypoint_classifier.hdf5\n",
            "23/23 [==============================] - 0s 7ms/step - loss: 0.4961 - accuracy: 0.8026 - val_loss: 0.2126 - val_accuracy: 0.9681\n",
            "Epoch 61/1000\n",
            "16/23 [===================>..........] - ETA: 0s - loss: 0.4517 - accuracy: 0.8179\n",
            "Epoch 61: saving model to model/keypoint_classifier\\keypoint_classifier.hdf5\n",
            "23/23 [==============================] - 0s 7ms/step - loss: 0.4557 - accuracy: 0.8147 - val_loss: 0.2063 - val_accuracy: 0.9692\n",
            "Epoch 62/1000\n",
            "17/23 [=====================>........] - ETA: 0s - loss: 0.4619 - accuracy: 0.8185\n",
            "Epoch 62: saving model to model/keypoint_classifier\\keypoint_classifier.hdf5\n",
            "23/23 [==============================] - 0s 7ms/step - loss: 0.4650 - accuracy: 0.8182 - val_loss: 0.2135 - val_accuracy: 0.9660\n",
            "Epoch 63/1000\n",
            "17/23 [=====================>........] - ETA: 0s - loss: 0.4629 - accuracy: 0.8176\n",
            "Epoch 63: saving model to model/keypoint_classifier\\keypoint_classifier.hdf5\n",
            "23/23 [==============================] - 0s 7ms/step - loss: 0.4552 - accuracy: 0.8193 - val_loss: 0.2044 - val_accuracy: 0.9671\n",
            "Epoch 64/1000\n",
            "13/23 [===============>..............] - ETA: 0s - loss: 0.4673 - accuracy: 0.8203\n",
            "Epoch 64: saving model to model/keypoint_classifier\\keypoint_classifier.hdf5\n",
            "23/23 [==============================] - 0s 8ms/step - loss: 0.4610 - accuracy: 0.8210 - val_loss: 0.2000 - val_accuracy: 0.9692\n",
            "Epoch 65/1000\n",
            "16/23 [===================>..........] - ETA: 0s - loss: 0.4673 - accuracy: 0.8110\n",
            "Epoch 65: saving model to model/keypoint_classifier\\keypoint_classifier.hdf5\n",
            "23/23 [==============================] - 0s 7ms/step - loss: 0.4722 - accuracy: 0.8083 - val_loss: 0.2029 - val_accuracy: 0.9692\n",
            "Epoch 66/1000\n",
            "17/23 [=====================>........] - ETA: 0s - loss: 0.4777 - accuracy: 0.8061\n",
            "Epoch 66: saving model to model/keypoint_classifier\\keypoint_classifier.hdf5\n",
            "23/23 [==============================] - 0s 7ms/step - loss: 0.4788 - accuracy: 0.8062 - val_loss: 0.2074 - val_accuracy: 0.9681\n",
            "Epoch 67/1000\n",
            "17/23 [=====================>........] - ETA: 0s - loss: 0.4757 - accuracy: 0.8153\n",
            "Epoch 67: saving model to model/keypoint_classifier\\keypoint_classifier.hdf5\n",
            "23/23 [==============================] - 0s 7ms/step - loss: 0.4680 - accuracy: 0.8140 - val_loss: 0.2031 - val_accuracy: 0.9681\n",
            "Epoch 68/1000\n",
            "18/23 [======================>.......] - ETA: 0s - loss: 0.4475 - accuracy: 0.8168\n",
            "Epoch 68: saving model to model/keypoint_classifier\\keypoint_classifier.hdf5\n",
            "23/23 [==============================] - 0s 7ms/step - loss: 0.4519 - accuracy: 0.8143 - val_loss: 0.1954 - val_accuracy: 0.9692\n",
            "Epoch 69/1000\n",
            "17/23 [=====================>........] - ETA: 0s - loss: 0.4608 - accuracy: 0.8217\n",
            "Epoch 69: saving model to model/keypoint_classifier\\keypoint_classifier.hdf5\n",
            "23/23 [==============================] - 0s 7ms/step - loss: 0.4653 - accuracy: 0.8168 - val_loss: 0.1955 - val_accuracy: 0.9681\n",
            "Epoch 70/1000\n",
            "16/23 [===================>..........] - ETA: 0s - loss: 0.4688 - accuracy: 0.8120\n",
            "Epoch 70: saving model to model/keypoint_classifier\\keypoint_classifier.hdf5\n",
            "23/23 [==============================] - 0s 8ms/step - loss: 0.4599 - accuracy: 0.8196 - val_loss: 0.1973 - val_accuracy: 0.9681\n",
            "Epoch 71/1000\n",
            "16/23 [===================>..........] - ETA: 0s - loss: 0.4610 - accuracy: 0.8120\n",
            "Epoch 71: saving model to model/keypoint_classifier\\keypoint_classifier.hdf5\n",
            "23/23 [==============================] - 0s 8ms/step - loss: 0.4527 - accuracy: 0.8193 - val_loss: 0.1959 - val_accuracy: 0.9671\n",
            "Epoch 72/1000\n",
            "13/23 [===============>..............] - ETA: 0s - loss: 0.4413 - accuracy: 0.8275\n",
            "Epoch 72: saving model to model/keypoint_classifier\\keypoint_classifier.hdf5\n",
            "23/23 [==============================] - 0s 8ms/step - loss: 0.4383 - accuracy: 0.8264 - val_loss: 0.1899 - val_accuracy: 0.9692\n",
            "Epoch 73/1000\n",
            "16/23 [===================>..........] - ETA: 0s - loss: 0.4472 - accuracy: 0.8135\n",
            "Epoch 73: saving model to model/keypoint_classifier\\keypoint_classifier.hdf5\n",
            "23/23 [==============================] - 0s 7ms/step - loss: 0.4551 - accuracy: 0.8140 - val_loss: 0.1953 - val_accuracy: 0.9671\n",
            "Epoch 74/1000\n",
            "15/23 [==================>...........] - ETA: 0s - loss: 0.4477 - accuracy: 0.8297\n",
            "Epoch 74: saving model to model/keypoint_classifier\\keypoint_classifier.hdf5\n",
            "23/23 [==============================] - 0s 8ms/step - loss: 0.4469 - accuracy: 0.8281 - val_loss: 0.1883 - val_accuracy: 0.9724\n",
            "Epoch 75/1000\n",
            "17/23 [=====================>........] - ETA: 0s - loss: 0.4524 - accuracy: 0.8176\n",
            "Epoch 75: saving model to model/keypoint_classifier\\keypoint_classifier.hdf5\n",
            "23/23 [==============================] - 0s 7ms/step - loss: 0.4523 - accuracy: 0.8214 - val_loss: 0.1876 - val_accuracy: 0.9724\n",
            "Epoch 76/1000\n",
            "17/23 [=====================>........] - ETA: 0s - loss: 0.4325 - accuracy: 0.8304\n",
            "Epoch 76: saving model to model/keypoint_classifier\\keypoint_classifier.hdf5\n",
            "23/23 [==============================] - 0s 7ms/step - loss: 0.4474 - accuracy: 0.8235 - val_loss: 0.1901 - val_accuracy: 0.9724\n",
            "Epoch 77/1000\n",
            "16/23 [===================>..........] - ETA: 0s - loss: 0.4469 - accuracy: 0.8232\n",
            "Epoch 77: saving model to model/keypoint_classifier\\keypoint_classifier.hdf5\n",
            "23/23 [==============================] - 0s 8ms/step - loss: 0.4563 - accuracy: 0.8193 - val_loss: 0.1936 - val_accuracy: 0.9734\n",
            "Epoch 78/1000\n",
            "17/23 [=====================>........] - ETA: 0s - loss: 0.4494 - accuracy: 0.8189\n",
            "Epoch 78: saving model to model/keypoint_classifier\\keypoint_classifier.hdf5\n",
            "23/23 [==============================] - 0s 7ms/step - loss: 0.4508 - accuracy: 0.8221 - val_loss: 0.1851 - val_accuracy: 0.9734\n",
            "Epoch 79/1000\n",
            "20/23 [=========================>....] - ETA: 0s - loss: 0.4507 - accuracy: 0.8242\n",
            "Epoch 79: saving model to model/keypoint_classifier\\keypoint_classifier.hdf5\n",
            "23/23 [==============================] - 0s 7ms/step - loss: 0.4479 - accuracy: 0.8257 - val_loss: 0.1886 - val_accuracy: 0.9660\n",
            "Epoch 80/1000\n",
            "14/23 [=================>............] - ETA: 0s - loss: 0.4655 - accuracy: 0.8142\n",
            "Epoch 80: saving model to model/keypoint_classifier\\keypoint_classifier.hdf5\n",
            "23/23 [==============================] - 0s 8ms/step - loss: 0.4591 - accuracy: 0.8182 - val_loss: 0.1854 - val_accuracy: 0.9660\n",
            "Epoch 81/1000\n",
            "17/23 [=====================>........] - ETA: 0s - loss: 0.4385 - accuracy: 0.8244\n",
            "Epoch 81: saving model to model/keypoint_classifier\\keypoint_classifier.hdf5\n",
            "23/23 [==============================] - 0s 7ms/step - loss: 0.4360 - accuracy: 0.8225 - val_loss: 0.1778 - val_accuracy: 0.9702\n",
            "Epoch 82/1000\n",
            "16/23 [===================>..........] - ETA: 0s - loss: 0.4349 - accuracy: 0.8237\n",
            "Epoch 82: saving model to model/keypoint_classifier\\keypoint_classifier.hdf5\n",
            "23/23 [==============================] - 0s 8ms/step - loss: 0.4298 - accuracy: 0.8249 - val_loss: 0.1780 - val_accuracy: 0.9692\n",
            "Epoch 83/1000\n",
            "17/23 [=====================>........] - ETA: 0s - loss: 0.4181 - accuracy: 0.8327\n",
            "Epoch 83: saving model to model/keypoint_classifier\\keypoint_classifier.hdf5\n",
            "23/23 [==============================] - 0s 7ms/step - loss: 0.4203 - accuracy: 0.8281 - val_loss: 0.1716 - val_accuracy: 0.9724\n",
            "Epoch 84/1000\n",
            "16/23 [===================>..........] - ETA: 0s - loss: 0.4346 - accuracy: 0.8291\n",
            "Epoch 84: saving model to model/keypoint_classifier\\keypoint_classifier.hdf5\n",
            "23/23 [==============================] - 0s 8ms/step - loss: 0.4342 - accuracy: 0.8281 - val_loss: 0.1705 - val_accuracy: 0.9745\n",
            "Epoch 85/1000\n",
            "16/23 [===================>..........] - ETA: 0s - loss: 0.4314 - accuracy: 0.8203\n",
            "Epoch 85: saving model to model/keypoint_classifier\\keypoint_classifier.hdf5\n",
            "23/23 [==============================] - 0s 7ms/step - loss: 0.4338 - accuracy: 0.8218 - val_loss: 0.1691 - val_accuracy: 0.9766\n",
            "Epoch 86/1000\n",
            "16/23 [===================>..........] - ETA: 0s - loss: 0.4420 - accuracy: 0.8262\n",
            "Epoch 86: saving model to model/keypoint_classifier\\keypoint_classifier.hdf5\n",
            "23/23 [==============================] - 0s 8ms/step - loss: 0.4437 - accuracy: 0.8253 - val_loss: 0.1687 - val_accuracy: 0.9756\n",
            "Epoch 87/1000\n",
            "17/23 [=====================>........] - ETA: 0s - loss: 0.4311 - accuracy: 0.8244\n",
            "Epoch 87: saving model to model/keypoint_classifier\\keypoint_classifier.hdf5\n",
            "23/23 [==============================] - 0s 8ms/step - loss: 0.4226 - accuracy: 0.8313 - val_loss: 0.1709 - val_accuracy: 0.9724\n",
            "Epoch 88/1000\n",
            "16/23 [===================>..........] - ETA: 0s - loss: 0.4242 - accuracy: 0.8379\n",
            "Epoch 88: saving model to model/keypoint_classifier\\keypoint_classifier.hdf5\n",
            "23/23 [==============================] - 0s 7ms/step - loss: 0.4176 - accuracy: 0.8412 - val_loss: 0.1714 - val_accuracy: 0.9681\n",
            "Epoch 89/1000\n",
            "16/23 [===================>..........] - ETA: 0s - loss: 0.4233 - accuracy: 0.8315\n",
            "Epoch 89: saving model to model/keypoint_classifier\\keypoint_classifier.hdf5\n",
            "23/23 [==============================] - 0s 7ms/step - loss: 0.4383 - accuracy: 0.8218 - val_loss: 0.1687 - val_accuracy: 0.9681\n",
            "Epoch 90/1000\n",
            "16/23 [===================>..........] - ETA: 0s - loss: 0.4427 - accuracy: 0.8242\n",
            "Epoch 90: saving model to model/keypoint_classifier\\keypoint_classifier.hdf5\n",
            "23/23 [==============================] - 0s 7ms/step - loss: 0.4418 - accuracy: 0.8228 - val_loss: 0.1685 - val_accuracy: 0.9692\n",
            "Epoch 91/1000\n",
            "17/23 [=====================>........] - ETA: 0s - loss: 0.4022 - accuracy: 0.8447\n",
            "Epoch 91: saving model to model/keypoint_classifier\\keypoint_classifier.hdf5\n",
            "23/23 [==============================] - 0s 7ms/step - loss: 0.4144 - accuracy: 0.8356 - val_loss: 0.1669 - val_accuracy: 0.9702\n",
            "Epoch 92/1000\n",
            "15/23 [==================>...........] - ETA: 0s - loss: 0.4141 - accuracy: 0.8411\n",
            "Epoch 92: saving model to model/keypoint_classifier\\keypoint_classifier.hdf5\n",
            "23/23 [==============================] - 0s 7ms/step - loss: 0.4239 - accuracy: 0.8306 - val_loss: 0.1676 - val_accuracy: 0.9702\n",
            "Epoch 93/1000\n",
            "13/23 [===============>..............] - ETA: 0s - loss: 0.4351 - accuracy: 0.8257\n",
            "Epoch 93: saving model to model/keypoint_classifier\\keypoint_classifier.hdf5\n",
            "23/23 [==============================] - 0s 10ms/step - loss: 0.4358 - accuracy: 0.8253 - val_loss: 0.1740 - val_accuracy: 0.9692\n",
            "Epoch 94/1000\n",
            "13/23 [===============>..............] - ETA: 0s - loss: 0.4342 - accuracy: 0.8221\n",
            "Epoch 94: saving model to model/keypoint_classifier\\keypoint_classifier.hdf5\n",
            "23/23 [==============================] - 0s 8ms/step - loss: 0.4114 - accuracy: 0.8359 - val_loss: 0.1638 - val_accuracy: 0.9724\n",
            "Epoch 95/1000\n",
            "19/23 [=======================>......] - ETA: 0s - loss: 0.4097 - accuracy: 0.8421\n",
            "Epoch 95: saving model to model/keypoint_classifier\\keypoint_classifier.hdf5\n",
            "23/23 [==============================] - 0s 7ms/step - loss: 0.4162 - accuracy: 0.8381 - val_loss: 0.1644 - val_accuracy: 0.9713\n",
            "Epoch 96/1000\n",
            "15/23 [==================>...........] - ETA: 0s - loss: 0.4141 - accuracy: 0.8448\n",
            "Epoch 96: saving model to model/keypoint_classifier\\keypoint_classifier.hdf5\n",
            "23/23 [==============================] - 0s 7ms/step - loss: 0.4080 - accuracy: 0.8490 - val_loss: 0.1638 - val_accuracy: 0.9702\n",
            "Epoch 97/1000\n",
            "16/23 [===================>..........] - ETA: 0s - loss: 0.4111 - accuracy: 0.8350\n",
            "Epoch 97: saving model to model/keypoint_classifier\\keypoint_classifier.hdf5\n",
            "23/23 [==============================] - 0s 7ms/step - loss: 0.4001 - accuracy: 0.8416 - val_loss: 0.1581 - val_accuracy: 0.9734\n",
            "Epoch 98/1000\n",
            "16/23 [===================>..........] - ETA: 0s - loss: 0.4289 - accuracy: 0.8164\n",
            "Epoch 98: saving model to model/keypoint_classifier\\keypoint_classifier.hdf5\n",
            "23/23 [==============================] - 0s 7ms/step - loss: 0.4213 - accuracy: 0.8253 - val_loss: 0.1604 - val_accuracy: 0.9756\n",
            "Epoch 99/1000\n",
            "15/23 [==================>...........] - ETA: 0s - loss: 0.4274 - accuracy: 0.8302\n",
            "Epoch 99: saving model to model/keypoint_classifier\\keypoint_classifier.hdf5\n",
            "23/23 [==============================] - 0s 7ms/step - loss: 0.4184 - accuracy: 0.8338 - val_loss: 0.1611 - val_accuracy: 0.9724\n",
            "Epoch 100/1000\n",
            "14/23 [=================>............] - ETA: 0s - loss: 0.4177 - accuracy: 0.8315\n",
            "Epoch 100: saving model to model/keypoint_classifier\\keypoint_classifier.hdf5\n",
            "23/23 [==============================] - 0s 8ms/step - loss: 0.4133 - accuracy: 0.8342 - val_loss: 0.1594 - val_accuracy: 0.9713\n",
            "Epoch 101/1000\n",
            "16/23 [===================>..........] - ETA: 0s - loss: 0.4180 - accuracy: 0.8340\n",
            "Epoch 101: saving model to model/keypoint_classifier\\keypoint_classifier.hdf5\n",
            "23/23 [==============================] - 0s 7ms/step - loss: 0.4222 - accuracy: 0.8366 - val_loss: 0.1571 - val_accuracy: 0.9713\n",
            "Epoch 102/1000\n",
            "16/23 [===================>..........] - ETA: 0s - loss: 0.4091 - accuracy: 0.8413\n",
            "Epoch 102: saving model to model/keypoint_classifier\\keypoint_classifier.hdf5\n",
            "23/23 [==============================] - 0s 8ms/step - loss: 0.4075 - accuracy: 0.8434 - val_loss: 0.1568 - val_accuracy: 0.9713\n",
            "Epoch 103/1000\n",
            "17/23 [=====================>........] - ETA: 0s - loss: 0.4241 - accuracy: 0.8346\n",
            "Epoch 103: saving model to model/keypoint_classifier\\keypoint_classifier.hdf5\n",
            "23/23 [==============================] - 0s 7ms/step - loss: 0.4209 - accuracy: 0.8366 - val_loss: 0.1611 - val_accuracy: 0.9692\n",
            "Epoch 104/1000\n",
            "19/23 [=======================>......] - ETA: 0s - loss: 0.4367 - accuracy: 0.8294\n",
            "Epoch 104: saving model to model/keypoint_classifier\\keypoint_classifier.hdf5\n",
            "23/23 [==============================] - 0s 7ms/step - loss: 0.4338 - accuracy: 0.8310 - val_loss: 0.1615 - val_accuracy: 0.9702\n",
            "Epoch 105/1000\n",
            "19/23 [=======================>......] - ETA: 0s - loss: 0.3967 - accuracy: 0.8495\n",
            "Epoch 105: saving model to model/keypoint_classifier\\keypoint_classifier.hdf5\n",
            "23/23 [==============================] - 0s 7ms/step - loss: 0.3989 - accuracy: 0.8498 - val_loss: 0.1563 - val_accuracy: 0.9724\n",
            "Epoch 106/1000\n",
            "14/23 [=================>............] - ETA: 0s - loss: 0.4158 - accuracy: 0.8438\n",
            "Epoch 106: saving model to model/keypoint_classifier\\keypoint_classifier.hdf5\n",
            "23/23 [==============================] - 0s 8ms/step - loss: 0.4078 - accuracy: 0.8441 - val_loss: 0.1633 - val_accuracy: 0.9713\n",
            "Epoch 107/1000\n",
            "17/23 [=====================>........] - ETA: 0s - loss: 0.4137 - accuracy: 0.8387\n",
            "Epoch 107: saving model to model/keypoint_classifier\\keypoint_classifier.hdf5\n",
            "23/23 [==============================] - 0s 7ms/step - loss: 0.4122 - accuracy: 0.8409 - val_loss: 0.1639 - val_accuracy: 0.9681\n",
            "Epoch 108/1000\n",
            "16/23 [===================>..........] - ETA: 0s - loss: 0.4188 - accuracy: 0.8311\n",
            "Epoch 108: saving model to model/keypoint_classifier\\keypoint_classifier.hdf5\n",
            "23/23 [==============================] - 0s 7ms/step - loss: 0.4159 - accuracy: 0.8331 - val_loss: 0.1584 - val_accuracy: 0.9734\n",
            "Epoch 109/1000\n",
            "17/23 [=====================>........] - ETA: 0s - loss: 0.3894 - accuracy: 0.8474\n",
            "Epoch 109: saving model to model/keypoint_classifier\\keypoint_classifier.hdf5\n",
            "23/23 [==============================] - 0s 8ms/step - loss: 0.3865 - accuracy: 0.8501 - val_loss: 0.1552 - val_accuracy: 0.9734\n",
            "Epoch 110/1000\n",
            "16/23 [===================>..........] - ETA: 0s - loss: 0.3950 - accuracy: 0.8506\n",
            "Epoch 110: saving model to model/keypoint_classifier\\keypoint_classifier.hdf5\n",
            "23/23 [==============================] - 0s 7ms/step - loss: 0.4014 - accuracy: 0.8462 - val_loss: 0.1610 - val_accuracy: 0.9724\n",
            "Epoch 111/1000\n",
            "19/23 [=======================>......] - ETA: 0s - loss: 0.4082 - accuracy: 0.8409\n",
            "Epoch 111: saving model to model/keypoint_classifier\\keypoint_classifier.hdf5\n",
            "23/23 [==============================] - 0s 10ms/step - loss: 0.4082 - accuracy: 0.8420 - val_loss: 0.1524 - val_accuracy: 0.9724\n",
            "Epoch 112/1000\n",
            "16/23 [===================>..........] - ETA: 0s - loss: 0.4070 - accuracy: 0.8467\n",
            "Epoch 112: saving model to model/keypoint_classifier\\keypoint_classifier.hdf5\n",
            "23/23 [==============================] - 0s 7ms/step - loss: 0.4160 - accuracy: 0.8405 - val_loss: 0.1508 - val_accuracy: 0.9724\n",
            "Epoch 113/1000\n",
            "16/23 [===================>..........] - ETA: 0s - loss: 0.3998 - accuracy: 0.8340\n",
            "Epoch 113: saving model to model/keypoint_classifier\\keypoint_classifier.hdf5\n",
            "23/23 [==============================] - 0s 7ms/step - loss: 0.3982 - accuracy: 0.8381 - val_loss: 0.1473 - val_accuracy: 0.9734\n",
            "Epoch 114/1000\n",
            "15/23 [==================>...........] - ETA: 0s - loss: 0.3890 - accuracy: 0.8521\n",
            "Epoch 114: saving model to model/keypoint_classifier\\keypoint_classifier.hdf5\n",
            "23/23 [==============================] - 0s 7ms/step - loss: 0.3856 - accuracy: 0.8558 - val_loss: 0.1465 - val_accuracy: 0.9777\n",
            "Epoch 115/1000\n",
            "17/23 [=====================>........] - ETA: 0s - loss: 0.3921 - accuracy: 0.8470\n",
            "Epoch 115: saving model to model/keypoint_classifier\\keypoint_classifier.hdf5\n",
            "23/23 [==============================] - 0s 7ms/step - loss: 0.3941 - accuracy: 0.8448 - val_loss: 0.1492 - val_accuracy: 0.9766\n",
            "Epoch 116/1000\n",
            "16/23 [===================>..........] - ETA: 0s - loss: 0.4120 - accuracy: 0.8374\n",
            "Epoch 116: saving model to model/keypoint_classifier\\keypoint_classifier.hdf5\n",
            "23/23 [==============================] - 0s 7ms/step - loss: 0.4090 - accuracy: 0.8423 - val_loss: 0.1605 - val_accuracy: 0.9692\n",
            "Epoch 117/1000\n",
            "16/23 [===================>..........] - ETA: 0s - loss: 0.4000 - accuracy: 0.8389\n",
            "Epoch 117: saving model to model/keypoint_classifier\\keypoint_classifier.hdf5\n",
            "23/23 [==============================] - 0s 8ms/step - loss: 0.4064 - accuracy: 0.8381 - val_loss: 0.1649 - val_accuracy: 0.9713\n",
            "Epoch 118/1000\n",
            "19/23 [=======================>......] - ETA: 0s - loss: 0.3994 - accuracy: 0.8417\n",
            "Epoch 118: saving model to model/keypoint_classifier\\keypoint_classifier.hdf5\n",
            "23/23 [==============================] - 0s 8ms/step - loss: 0.3976 - accuracy: 0.8423 - val_loss: 0.1590 - val_accuracy: 0.9734\n",
            "Epoch 119/1000\n",
            "17/23 [=====================>........] - ETA: 0s - loss: 0.3946 - accuracy: 0.8470\n",
            "Epoch 119: saving model to model/keypoint_classifier\\keypoint_classifier.hdf5\n",
            "23/23 [==============================] - 0s 7ms/step - loss: 0.3900 - accuracy: 0.8487 - val_loss: 0.1571 - val_accuracy: 0.9734\n",
            "Epoch 120/1000\n",
            "15/23 [==================>...........] - ETA: 0s - loss: 0.4154 - accuracy: 0.8344\n",
            "Epoch 120: saving model to model/keypoint_classifier\\keypoint_classifier.hdf5\n",
            "23/23 [==============================] - 0s 7ms/step - loss: 0.3937 - accuracy: 0.8462 - val_loss: 0.1546 - val_accuracy: 0.9777\n",
            "Epoch 121/1000\n",
            "18/23 [======================>.......] - ETA: 0s - loss: 0.3858 - accuracy: 0.8533\n",
            "Epoch 121: saving model to model/keypoint_classifier\\keypoint_classifier.hdf5\n",
            "23/23 [==============================] - 0s 7ms/step - loss: 0.3887 - accuracy: 0.8522 - val_loss: 0.1529 - val_accuracy: 0.9724\n",
            "Epoch 122/1000\n",
            "16/23 [===================>..........] - ETA: 0s - loss: 0.3744 - accuracy: 0.8589\n",
            "Epoch 122: saving model to model/keypoint_classifier\\keypoint_classifier.hdf5\n",
            "23/23 [==============================] - 0s 7ms/step - loss: 0.3785 - accuracy: 0.8547 - val_loss: 0.1462 - val_accuracy: 0.9756\n",
            "Epoch 123/1000\n",
            "12/23 [==============>...............] - ETA: 0s - loss: 0.4121 - accuracy: 0.8398\n",
            "Epoch 123: saving model to model/keypoint_classifier\\keypoint_classifier.hdf5\n",
            "23/23 [==============================] - 0s 8ms/step - loss: 0.4020 - accuracy: 0.8430 - val_loss: 0.1486 - val_accuracy: 0.9756\n",
            "Epoch 124/1000\n",
            "19/23 [=======================>......] - ETA: 0s - loss: 0.3862 - accuracy: 0.8532\n",
            "Epoch 124: saving model to model/keypoint_classifier\\keypoint_classifier.hdf5\n",
            "23/23 [==============================] - 0s 7ms/step - loss: 0.3832 - accuracy: 0.8554 - val_loss: 0.1465 - val_accuracy: 0.9745\n",
            "Epoch 125/1000\n",
            "16/23 [===================>..........] - ETA: 0s - loss: 0.3827 - accuracy: 0.8613\n",
            "Epoch 125: saving model to model/keypoint_classifier\\keypoint_classifier.hdf5\n",
            "23/23 [==============================] - 0s 7ms/step - loss: 0.3934 - accuracy: 0.8498 - val_loss: 0.1439 - val_accuracy: 0.9766\n",
            "Epoch 126/1000\n",
            "12/23 [==============>...............] - ETA: 0s - loss: 0.3844 - accuracy: 0.8405\n",
            "Epoch 126: saving model to model/keypoint_classifier\\keypoint_classifier.hdf5\n",
            "23/23 [==============================] - 0s 10ms/step - loss: 0.3910 - accuracy: 0.8444 - val_loss: 0.1446 - val_accuracy: 0.9745\n",
            "Epoch 127/1000\n",
            "16/23 [===================>..........] - ETA: 0s - loss: 0.3876 - accuracy: 0.8481\n",
            "Epoch 127: saving model to model/keypoint_classifier\\keypoint_classifier.hdf5\n",
            "23/23 [==============================] - 0s 7ms/step - loss: 0.3970 - accuracy: 0.8498 - val_loss: 0.1514 - val_accuracy: 0.9756\n",
            "Epoch 128/1000\n",
            "14/23 [=================>............] - ETA: 0s - loss: 0.3986 - accuracy: 0.8421\n",
            "Epoch 128: saving model to model/keypoint_classifier\\keypoint_classifier.hdf5\n",
            "23/23 [==============================] - 0s 7ms/step - loss: 0.4006 - accuracy: 0.8441 - val_loss: 0.1631 - val_accuracy: 0.9756\n",
            "Epoch 129/1000\n",
            "15/23 [==================>...........] - ETA: 0s - loss: 0.3930 - accuracy: 0.8417\n",
            "Epoch 129: saving model to model/keypoint_classifier\\keypoint_classifier.hdf5\n",
            "23/23 [==============================] - 0s 7ms/step - loss: 0.3943 - accuracy: 0.8430 - val_loss: 0.1523 - val_accuracy: 0.9777\n",
            "Epoch 130/1000\n",
            "15/23 [==================>...........] - ETA: 0s - loss: 0.3811 - accuracy: 0.8536\n",
            "Epoch 130: saving model to model/keypoint_classifier\\keypoint_classifier.hdf5\n",
            "23/23 [==============================] - 0s 7ms/step - loss: 0.3829 - accuracy: 0.8544 - val_loss: 0.1432 - val_accuracy: 0.9734\n",
            "Epoch 131/1000\n",
            "15/23 [==================>...........] - ETA: 0s - loss: 0.3838 - accuracy: 0.8573\n",
            "Epoch 131: saving model to model/keypoint_classifier\\keypoint_classifier.hdf5\n",
            "23/23 [==============================] - 0s 7ms/step - loss: 0.3787 - accuracy: 0.8583 - val_loss: 0.1409 - val_accuracy: 0.9766\n",
            "Epoch 132/1000\n",
            "16/23 [===================>..........] - ETA: 0s - loss: 0.3734 - accuracy: 0.8564\n",
            "Epoch 132: saving model to model/keypoint_classifier\\keypoint_classifier.hdf5\n",
            "23/23 [==============================] - 0s 7ms/step - loss: 0.3806 - accuracy: 0.8515 - val_loss: 0.1431 - val_accuracy: 0.9798\n",
            "Epoch 133/1000\n",
            "13/23 [===============>..............] - ETA: 0s - loss: 0.3738 - accuracy: 0.8546\n",
            "Epoch 133: saving model to model/keypoint_classifier\\keypoint_classifier.hdf5\n",
            "23/23 [==============================] - 0s 7ms/step - loss: 0.3799 - accuracy: 0.8533 - val_loss: 0.1462 - val_accuracy: 0.9777\n",
            "Epoch 134/1000\n",
            "16/23 [===================>..........] - ETA: 0s - loss: 0.3987 - accuracy: 0.8486\n",
            "Epoch 134: saving model to model/keypoint_classifier\\keypoint_classifier.hdf5\n",
            "23/23 [==============================] - 0s 7ms/step - loss: 0.3933 - accuracy: 0.8519 - val_loss: 0.1466 - val_accuracy: 0.9777\n",
            "Epoch 135/1000\n",
            "18/23 [======================>.......] - ETA: 0s - loss: 0.3942 - accuracy: 0.8446\n",
            "Epoch 135: saving model to model/keypoint_classifier\\keypoint_classifier.hdf5\n",
            "23/23 [==============================] - 0s 7ms/step - loss: 0.3933 - accuracy: 0.8448 - val_loss: 0.1430 - val_accuracy: 0.9809\n",
            "Epoch 136/1000\n",
            "16/23 [===================>..........] - ETA: 0s - loss: 0.3785 - accuracy: 0.8569\n",
            "Epoch 136: saving model to model/keypoint_classifier\\keypoint_classifier.hdf5\n",
            "23/23 [==============================] - 0s 7ms/step - loss: 0.3856 - accuracy: 0.8522 - val_loss: 0.1461 - val_accuracy: 0.9787\n",
            "Epoch 137/1000\n",
            "18/23 [======================>.......] - ETA: 0s - loss: 0.3755 - accuracy: 0.8550\n",
            "Epoch 137: saving model to model/keypoint_classifier\\keypoint_classifier.hdf5\n",
            "23/23 [==============================] - 0s 7ms/step - loss: 0.3785 - accuracy: 0.8519 - val_loss: 0.1439 - val_accuracy: 0.9798\n",
            "Epoch 138/1000\n",
            "16/23 [===================>..........] - ETA: 0s - loss: 0.3734 - accuracy: 0.8486\n",
            "Epoch 138: saving model to model/keypoint_classifier\\keypoint_classifier.hdf5\n",
            "23/23 [==============================] - 0s 8ms/step - loss: 0.3644 - accuracy: 0.8547 - val_loss: 0.1444 - val_accuracy: 0.9809\n",
            "Epoch 139/1000\n",
            "15/23 [==================>...........] - ETA: 0s - loss: 0.3940 - accuracy: 0.8469\n",
            "Epoch 139: saving model to model/keypoint_classifier\\keypoint_classifier.hdf5\n",
            "23/23 [==============================] - 0s 8ms/step - loss: 0.3869 - accuracy: 0.8533 - val_loss: 0.1435 - val_accuracy: 0.9798\n",
            "Epoch 140/1000\n",
            "16/23 [===================>..........] - ETA: 0s - loss: 0.3999 - accuracy: 0.8442\n",
            "Epoch 140: saving model to model/keypoint_classifier\\keypoint_classifier.hdf5\n",
            "23/23 [==============================] - 0s 9ms/step - loss: 0.3878 - accuracy: 0.8501 - val_loss: 0.1449 - val_accuracy: 0.9766\n",
            "Epoch 141/1000\n",
            "12/23 [==============>...............] - ETA: 0s - loss: 0.3777 - accuracy: 0.8496\n",
            "Epoch 141: saving model to model/keypoint_classifier\\keypoint_classifier.hdf5\n",
            "23/23 [==============================] - 0s 11ms/step - loss: 0.3625 - accuracy: 0.8575 - val_loss: 0.1408 - val_accuracy: 0.9787\n",
            "Epoch 142/1000\n",
            "14/23 [=================>............] - ETA: 0s - loss: 0.3773 - accuracy: 0.8549\n",
            "Epoch 142: saving model to model/keypoint_classifier\\keypoint_classifier.hdf5\n",
            "23/23 [==============================] - 0s 7ms/step - loss: 0.3844 - accuracy: 0.8508 - val_loss: 0.1407 - val_accuracy: 0.9798\n",
            "Epoch 143/1000\n",
            "13/23 [===============>..............] - ETA: 0s - loss: 0.3761 - accuracy: 0.8456\n",
            "Epoch 143: saving model to model/keypoint_classifier\\keypoint_classifier.hdf5\n",
            "23/23 [==============================] - 0s 8ms/step - loss: 0.3847 - accuracy: 0.8469 - val_loss: 0.1465 - val_accuracy: 0.9787\n",
            "Epoch 144/1000\n",
            "16/23 [===================>..........] - ETA: 0s - loss: 0.3966 - accuracy: 0.8477\n",
            "Epoch 144: saving model to model/keypoint_classifier\\keypoint_classifier.hdf5\n",
            "23/23 [==============================] - 0s 7ms/step - loss: 0.3906 - accuracy: 0.8490 - val_loss: 0.1424 - val_accuracy: 0.9787\n",
            "Epoch 145/1000\n",
            "12/23 [==============>...............] - ETA: 0s - loss: 0.3884 - accuracy: 0.8327\n",
            "Epoch 145: saving model to model/keypoint_classifier\\keypoint_classifier.hdf5\n",
            "23/23 [==============================] - 0s 8ms/step - loss: 0.3898 - accuracy: 0.8366 - val_loss: 0.1414 - val_accuracy: 0.9798\n",
            "Epoch 146/1000\n",
            "17/23 [=====================>........] - ETA: 0s - loss: 0.3700 - accuracy: 0.8552\n",
            "Epoch 146: saving model to model/keypoint_classifier\\keypoint_classifier.hdf5\n",
            "23/23 [==============================] - 0s 7ms/step - loss: 0.3744 - accuracy: 0.8529 - val_loss: 0.1388 - val_accuracy: 0.9830\n",
            "Epoch 147/1000\n",
            "15/23 [==================>...........] - ETA: 0s - loss: 0.3717 - accuracy: 0.8573\n",
            "Epoch 147: saving model to model/keypoint_classifier\\keypoint_classifier.hdf5\n",
            "23/23 [==============================] - 0s 7ms/step - loss: 0.3670 - accuracy: 0.8568 - val_loss: 0.1420 - val_accuracy: 0.9830\n",
            "Epoch 148/1000\n",
            "14/23 [=================>............] - ETA: 0s - loss: 0.3702 - accuracy: 0.8521\n",
            "Epoch 148: saving model to model/keypoint_classifier\\keypoint_classifier.hdf5\n",
            "23/23 [==============================] - 0s 8ms/step - loss: 0.3600 - accuracy: 0.8575 - val_loss: 0.1402 - val_accuracy: 0.9798\n",
            "Epoch 149/1000\n",
            "19/23 [=======================>......] - ETA: 0s - loss: 0.3791 - accuracy: 0.8524\n",
            "Epoch 149: saving model to model/keypoint_classifier\\keypoint_classifier.hdf5\n",
            "23/23 [==============================] - 0s 7ms/step - loss: 0.3830 - accuracy: 0.8519 - val_loss: 0.1389 - val_accuracy: 0.9798\n",
            "Epoch 150/1000\n",
            "15/23 [==================>...........] - ETA: 0s - loss: 0.3719 - accuracy: 0.8589\n",
            "Epoch 150: saving model to model/keypoint_classifier\\keypoint_classifier.hdf5\n",
            "23/23 [==============================] - 0s 7ms/step - loss: 0.3663 - accuracy: 0.8590 - val_loss: 0.1326 - val_accuracy: 0.9787\n",
            "Epoch 151/1000\n",
            "14/23 [=================>............] - ETA: 0s - loss: 0.3760 - accuracy: 0.8499\n",
            "Epoch 151: saving model to model/keypoint_classifier\\keypoint_classifier.hdf5\n",
            "23/23 [==============================] - 0s 8ms/step - loss: 0.3829 - accuracy: 0.8476 - val_loss: 0.1346 - val_accuracy: 0.9798\n",
            "Epoch 152/1000\n",
            "15/23 [==================>...........] - ETA: 0s - loss: 0.3592 - accuracy: 0.8609\n",
            "Epoch 152: saving model to model/keypoint_classifier\\keypoint_classifier.hdf5\n",
            "23/23 [==============================] - 0s 7ms/step - loss: 0.3681 - accuracy: 0.8568 - val_loss: 0.1367 - val_accuracy: 0.9809\n",
            "Epoch 153/1000\n",
            "17/23 [=====================>........] - ETA: 0s - loss: 0.3584 - accuracy: 0.8594\n",
            "Epoch 153: saving model to model/keypoint_classifier\\keypoint_classifier.hdf5\n",
            "23/23 [==============================] - 0s 10ms/step - loss: 0.3605 - accuracy: 0.8597 - val_loss: 0.1336 - val_accuracy: 0.9787\n",
            "Epoch 154/1000\n",
            "18/23 [======================>.......] - ETA: 0s - loss: 0.3787 - accuracy: 0.8516\n",
            "Epoch 154: saving model to model/keypoint_classifier\\keypoint_classifier.hdf5\n",
            "23/23 [==============================] - 0s 7ms/step - loss: 0.3785 - accuracy: 0.8462 - val_loss: 0.1466 - val_accuracy: 0.9777\n",
            "Epoch 155/1000\n",
            "14/23 [=================>............] - ETA: 0s - loss: 0.3745 - accuracy: 0.8510\n",
            "Epoch 155: saving model to model/keypoint_classifier\\keypoint_classifier.hdf5\n",
            "23/23 [==============================] - 0s 8ms/step - loss: 0.3737 - accuracy: 0.8536 - val_loss: 0.1418 - val_accuracy: 0.9819\n",
            "Epoch 156/1000\n",
            "15/23 [==================>...........] - ETA: 0s - loss: 0.3715 - accuracy: 0.8573\n",
            "Epoch 156: saving model to model/keypoint_classifier\\keypoint_classifier.hdf5\n",
            "23/23 [==============================] - 0s 8ms/step - loss: 0.3714 - accuracy: 0.8583 - val_loss: 0.1501 - val_accuracy: 0.9819\n",
            "Epoch 157/1000\n",
            "15/23 [==================>...........] - ETA: 0s - loss: 0.3742 - accuracy: 0.8542\n",
            "Epoch 157: saving model to model/keypoint_classifier\\keypoint_classifier.hdf5\n",
            "23/23 [==============================] - 0s 7ms/step - loss: 0.3878 - accuracy: 0.8515 - val_loss: 0.1443 - val_accuracy: 0.9819\n",
            "Epoch 158/1000\n",
            "16/23 [===================>..........] - ETA: 0s - loss: 0.3529 - accuracy: 0.8682\n",
            "Epoch 158: saving model to model/keypoint_classifier\\keypoint_classifier.hdf5\n",
            "23/23 [==============================] - 0s 7ms/step - loss: 0.3592 - accuracy: 0.8636 - val_loss: 0.1441 - val_accuracy: 0.9819\n",
            "Epoch 159/1000\n",
            "15/23 [==================>...........] - ETA: 0s - loss: 0.3751 - accuracy: 0.8505\n",
            "Epoch 159: saving model to model/keypoint_classifier\\keypoint_classifier.hdf5\n",
            "23/23 [==============================] - 0s 8ms/step - loss: 0.3863 - accuracy: 0.8490 - val_loss: 0.1403 - val_accuracy: 0.9819\n",
            "Epoch 160/1000\n",
            "18/23 [======================>.......] - ETA: 0s - loss: 0.3509 - accuracy: 0.8646\n",
            "Epoch 160: saving model to model/keypoint_classifier\\keypoint_classifier.hdf5\n",
            "23/23 [==============================] - 0s 7ms/step - loss: 0.3565 - accuracy: 0.8607 - val_loss: 0.1342 - val_accuracy: 0.9819\n",
            "Epoch 161/1000\n",
            "16/23 [===================>..........] - ETA: 0s - loss: 0.3647 - accuracy: 0.8584\n",
            "Epoch 161: saving model to model/keypoint_classifier\\keypoint_classifier.hdf5\n",
            "23/23 [==============================] - 0s 7ms/step - loss: 0.3645 - accuracy: 0.8604 - val_loss: 0.1345 - val_accuracy: 0.9819\n",
            "Epoch 162/1000\n",
            "16/23 [===================>..........] - ETA: 0s - loss: 0.3701 - accuracy: 0.8506\n",
            "Epoch 162: saving model to model/keypoint_classifier\\keypoint_classifier.hdf5\n",
            "23/23 [==============================] - 0s 7ms/step - loss: 0.3730 - accuracy: 0.8508 - val_loss: 0.1380 - val_accuracy: 0.9809\n",
            "Epoch 163/1000\n",
            "14/23 [=================>............] - ETA: 0s - loss: 0.3576 - accuracy: 0.8616\n",
            "Epoch 163: saving model to model/keypoint_classifier\\keypoint_classifier.hdf5\n",
            "23/23 [==============================] - 0s 7ms/step - loss: 0.3745 - accuracy: 0.8568 - val_loss: 0.1389 - val_accuracy: 0.9830\n",
            "Epoch 164/1000\n",
            "10/23 [============>.................] - ETA: 0s - loss: 0.3359 - accuracy: 0.8648\n",
            "Epoch 164: saving model to model/keypoint_classifier\\keypoint_classifier.hdf5\n",
            "23/23 [==============================] - 0s 8ms/step - loss: 0.3501 - accuracy: 0.8643 - val_loss: 0.1350 - val_accuracy: 0.9830\n",
            "Epoch 165/1000\n",
            "15/23 [==================>...........] - ETA: 0s - loss: 0.3821 - accuracy: 0.8505\n",
            "Epoch 165: saving model to model/keypoint_classifier\\keypoint_classifier.hdf5\n",
            "23/23 [==============================] - 0s 7ms/step - loss: 0.3683 - accuracy: 0.8558 - val_loss: 0.1334 - val_accuracy: 0.9819\n",
            "Epoch 166/1000\n",
            "16/23 [===================>..........] - ETA: 0s - loss: 0.3634 - accuracy: 0.8579\n",
            "Epoch 166: saving model to model/keypoint_classifier\\keypoint_classifier.hdf5\n",
            "23/23 [==============================] - 0s 11ms/step - loss: 0.3690 - accuracy: 0.8558 - val_loss: 0.1357 - val_accuracy: 0.9819\n",
            "Epoch 167/1000\n",
            "16/23 [===================>..........] - ETA: 0s - loss: 0.3715 - accuracy: 0.8569\n",
            "Epoch 167: saving model to model/keypoint_classifier\\keypoint_classifier.hdf5\n",
            "23/23 [==============================] - 0s 7ms/step - loss: 0.3740 - accuracy: 0.8572 - val_loss: 0.1425 - val_accuracy: 0.9819\n",
            "Epoch 168/1000\n",
            "16/23 [===================>..........] - ETA: 0s - loss: 0.3539 - accuracy: 0.8638\n",
            "Epoch 168: saving model to model/keypoint_classifier\\keypoint_classifier.hdf5\n",
            "23/23 [==============================] - 0s 8ms/step - loss: 0.3526 - accuracy: 0.8653 - val_loss: 0.1379 - val_accuracy: 0.9819\n",
            "Epoch 169/1000\n",
            "17/23 [=====================>........] - ETA: 0s - loss: 0.3836 - accuracy: 0.8497\n",
            "Epoch 169: saving model to model/keypoint_classifier\\keypoint_classifier.hdf5\n",
            "23/23 [==============================] - 0s 7ms/step - loss: 0.3918 - accuracy: 0.8498 - val_loss: 0.1355 - val_accuracy: 0.9809\n",
            "Epoch 170/1000\n",
            "19/23 [=======================>......] - ETA: 0s - loss: 0.3435 - accuracy: 0.8672\n",
            "Epoch 170: saving model to model/keypoint_classifier\\keypoint_classifier.hdf5\n",
            "23/23 [==============================] - 0s 7ms/step - loss: 0.3417 - accuracy: 0.8689 - val_loss: 0.1297 - val_accuracy: 0.9830\n",
            "Epoch 171/1000\n",
            "16/23 [===================>..........] - ETA: 0s - loss: 0.3569 - accuracy: 0.8613\n",
            "Epoch 171: saving model to model/keypoint_classifier\\keypoint_classifier.hdf5\n",
            "23/23 [==============================] - 0s 7ms/step - loss: 0.3530 - accuracy: 0.8653 - val_loss: 0.1287 - val_accuracy: 0.9841\n",
            "Epoch 172/1000\n",
            "14/23 [=================>............] - ETA: 0s - loss: 0.3472 - accuracy: 0.8627\n",
            "Epoch 172: saving model to model/keypoint_classifier\\keypoint_classifier.hdf5\n",
            "23/23 [==============================] - 0s 8ms/step - loss: 0.3481 - accuracy: 0.8650 - val_loss: 0.1264 - val_accuracy: 0.9830\n",
            "Epoch 173/1000\n",
            "15/23 [==================>...........] - ETA: 0s - loss: 0.3679 - accuracy: 0.8646\n",
            "Epoch 173: saving model to model/keypoint_classifier\\keypoint_classifier.hdf5\n",
            "23/23 [==============================] - 0s 7ms/step - loss: 0.3600 - accuracy: 0.8675 - val_loss: 0.1263 - val_accuracy: 0.9851\n",
            "Epoch 174/1000\n",
            "16/23 [===================>..........] - ETA: 0s - loss: 0.3541 - accuracy: 0.8677\n",
            "Epoch 174: saving model to model/keypoint_classifier\\keypoint_classifier.hdf5\n",
            "23/23 [==============================] - 0s 7ms/step - loss: 0.3528 - accuracy: 0.8646 - val_loss: 0.1369 - val_accuracy: 0.9809\n",
            "Epoch 175/1000\n",
            "17/23 [=====================>........] - ETA: 0s - loss: 0.3611 - accuracy: 0.8552\n",
            "Epoch 175: saving model to model/keypoint_classifier\\keypoint_classifier.hdf5\n",
            "23/23 [==============================] - 0s 7ms/step - loss: 0.3690 - accuracy: 0.8508 - val_loss: 0.1302 - val_accuracy: 0.9841\n",
            "Epoch 176/1000\n",
            "14/23 [=================>............] - ETA: 0s - loss: 0.3699 - accuracy: 0.8566\n",
            "Epoch 176: saving model to model/keypoint_classifier\\keypoint_classifier.hdf5\n",
            "23/23 [==============================] - 0s 10ms/step - loss: 0.3701 - accuracy: 0.8565 - val_loss: 0.1604 - val_accuracy: 0.9798\n",
            "Epoch 177/1000\n",
            "15/23 [==================>...........] - ETA: 0s - loss: 0.3837 - accuracy: 0.8516\n",
            "Epoch 177: saving model to model/keypoint_classifier\\keypoint_classifier.hdf5\n",
            "23/23 [==============================] - 0s 7ms/step - loss: 0.3766 - accuracy: 0.8519 - val_loss: 0.1354 - val_accuracy: 0.9830\n",
            "Epoch 178/1000\n",
            "16/23 [===================>..........] - ETA: 0s - loss: 0.3504 - accuracy: 0.8682\n",
            "Epoch 178: saving model to model/keypoint_classifier\\keypoint_classifier.hdf5\n",
            "23/23 [==============================] - 0s 7ms/step - loss: 0.3536 - accuracy: 0.8650 - val_loss: 0.1374 - val_accuracy: 0.9830\n",
            "Epoch 179/1000\n",
            "16/23 [===================>..........] - ETA: 0s - loss: 0.3602 - accuracy: 0.8569\n",
            "Epoch 179: saving model to model/keypoint_classifier\\keypoint_classifier.hdf5\n",
            "23/23 [==============================] - 0s 8ms/step - loss: 0.3595 - accuracy: 0.8579 - val_loss: 0.1302 - val_accuracy: 0.9851\n",
            "Epoch 180/1000\n",
            "16/23 [===================>..........] - ETA: 0s - loss: 0.3643 - accuracy: 0.8530\n",
            "Epoch 180: saving model to model/keypoint_classifier\\keypoint_classifier.hdf5\n",
            "23/23 [==============================] - 0s 8ms/step - loss: 0.3514 - accuracy: 0.8632 - val_loss: 0.1288 - val_accuracy: 0.9841\n",
            "Epoch 181/1000\n",
            "16/23 [===================>..........] - ETA: 0s - loss: 0.3910 - accuracy: 0.8423\n",
            "Epoch 181: saving model to model/keypoint_classifier\\keypoint_classifier.hdf5\n",
            "23/23 [==============================] - 0s 7ms/step - loss: 0.3871 - accuracy: 0.8427 - val_loss: 0.1373 - val_accuracy: 0.9841\n",
            "Epoch 182/1000\n",
            "18/23 [======================>.......] - ETA: 0s - loss: 0.3674 - accuracy: 0.8576\n",
            "Epoch 182: saving model to model/keypoint_classifier\\keypoint_classifier.hdf5\n",
            "23/23 [==============================] - 0s 7ms/step - loss: 0.3720 - accuracy: 0.8558 - val_loss: 0.1389 - val_accuracy: 0.9830\n",
            "Epoch 183/1000\n",
            "16/23 [===================>..........] - ETA: 0s - loss: 0.3872 - accuracy: 0.8496\n",
            "Epoch 183: saving model to model/keypoint_classifier\\keypoint_classifier.hdf5\n",
            "23/23 [==============================] - 0s 7ms/step - loss: 0.3770 - accuracy: 0.8529 - val_loss: 0.1406 - val_accuracy: 0.9819\n",
            "Epoch 184/1000\n",
            "16/23 [===================>..........] - ETA: 0s - loss: 0.3194 - accuracy: 0.8765\n",
            "Epoch 184: saving model to model/keypoint_classifier\\keypoint_classifier.hdf5\n",
            "23/23 [==============================] - 0s 7ms/step - loss: 0.3337 - accuracy: 0.8700 - val_loss: 0.1341 - val_accuracy: 0.9830\n",
            "Epoch 185/1000\n",
            "15/23 [==================>...........] - ETA: 0s - loss: 0.3666 - accuracy: 0.8583\n",
            "Epoch 185: saving model to model/keypoint_classifier\\keypoint_classifier.hdf5\n",
            "23/23 [==============================] - 0s 7ms/step - loss: 0.3612 - accuracy: 0.8593 - val_loss: 0.1376 - val_accuracy: 0.9841\n",
            "Epoch 186/1000\n",
            "13/23 [===============>..............] - ETA: 0s - loss: 0.3514 - accuracy: 0.8666\n",
            "Epoch 186: saving model to model/keypoint_classifier\\keypoint_classifier.hdf5\n",
            "23/23 [==============================] - 0s 10ms/step - loss: 0.3630 - accuracy: 0.8579 - val_loss: 0.1340 - val_accuracy: 0.9819\n",
            "Epoch 187/1000\n",
            "17/23 [=====================>........] - ETA: 0s - loss: 0.3451 - accuracy: 0.8704\n",
            "Epoch 187: saving model to model/keypoint_classifier\\keypoint_classifier.hdf5\n",
            "23/23 [==============================] - 0s 7ms/step - loss: 0.3464 - accuracy: 0.8692 - val_loss: 0.1362 - val_accuracy: 0.9809\n",
            "Epoch 188/1000\n",
            "13/23 [===============>..............] - ETA: 0s - loss: 0.3456 - accuracy: 0.8612\n",
            "Epoch 188: saving model to model/keypoint_classifier\\keypoint_classifier.hdf5\n",
            "23/23 [==============================] - 0s 8ms/step - loss: 0.3378 - accuracy: 0.8678 - val_loss: 0.1360 - val_accuracy: 0.9841\n",
            "Epoch 189/1000\n",
            "17/23 [=====================>........] - ETA: 0s - loss: 0.3314 - accuracy: 0.8814\n",
            "Epoch 189: saving model to model/keypoint_classifier\\keypoint_classifier.hdf5\n",
            "23/23 [==============================] - 0s 7ms/step - loss: 0.3396 - accuracy: 0.8770 - val_loss: 0.1338 - val_accuracy: 0.9819\n",
            "Epoch 190/1000\n",
            "16/23 [===================>..........] - ETA: 0s - loss: 0.3547 - accuracy: 0.8643\n",
            "Epoch 190: saving model to model/keypoint_classifier\\keypoint_classifier.hdf5\n",
            "23/23 [==============================] - 0s 7ms/step - loss: 0.3446 - accuracy: 0.8668 - val_loss: 0.1296 - val_accuracy: 0.9798\n",
            "Epoch 191/1000\n",
            "19/23 [=======================>......] - ETA: 0s - loss: 0.3613 - accuracy: 0.8651\n",
            "Epoch 191: saving model to model/keypoint_classifier\\keypoint_classifier.hdf5\n",
            "23/23 [==============================] - 0s 7ms/step - loss: 0.3617 - accuracy: 0.8625 - val_loss: 0.1280 - val_accuracy: 0.9798\n",
            "Epoch 192/1000\n",
            "14/23 [=================>............] - ETA: 0s - loss: 0.3739 - accuracy: 0.8605\n",
            "Epoch 192: saving model to model/keypoint_classifier\\keypoint_classifier.hdf5\n",
            "23/23 [==============================] - 0s 8ms/step - loss: 0.3629 - accuracy: 0.8636 - val_loss: 0.1290 - val_accuracy: 0.9830\n",
            "Epoch 193/1000\n",
            "16/23 [===================>..........] - ETA: 0s - loss: 0.3553 - accuracy: 0.8696\n",
            "Epoch 193: saving model to model/keypoint_classifier\\keypoint_classifier.hdf5\n",
            "23/23 [==============================] - 0s 7ms/step - loss: 0.3487 - accuracy: 0.8707 - val_loss: 0.1287 - val_accuracy: 0.9830\n",
            "Epoch 193: early stopping\n"
          ]
        },
        {
          "data": {
            "text/plain": [
              "<keras.callbacks.History at 0x1851b1e8ac0>"
            ]
          },
          "execution_count": 55,
          "metadata": {},
          "output_type": "execute_result"
        }
      ],
      "source": [
        "model.fit(\n",
        "    X_train,\n",
        "    y_train,\n",
        "    epochs=1000,\n",
        "    batch_size=128,\n",
        "    validation_data=(X_test, y_test),\n",
        "    callbacks=[cp_callback, es_callback]\n",
        ")"
      ]
    },
    {
      "cell_type": "code",
      "execution_count": 56,
      "metadata": {
        "colab": {
          "base_uri": "https://localhost:8080/"
        },
        "id": "pxvb2Y299hE3",
        "outputId": "59eb3185-2e37-4b9e-bc9d-ab1b8ac29b7f"
      },
      "outputs": [
        {
          "name": "stdout",
          "output_type": "stream",
          "text": [
            "8/8 [==============================] - 0s 2ms/step - loss: 0.1287 - accuracy: 0.9830\n"
          ]
        }
      ],
      "source": [
        "# Model evaluation\n",
        "val_loss, val_acc = model.evaluate(X_test, y_test, batch_size=128)"
      ]
    },
    {
      "cell_type": "code",
      "execution_count": 57,
      "metadata": {
        "id": "RBkmDeUW9hE4"
      },
      "outputs": [],
      "source": [
        "# Loading the saved model\n",
        "model = tf.keras.models.load_model(model_save_path)"
      ]
    },
    {
      "cell_type": "code",
      "execution_count": 58,
      "metadata": {
        "colab": {
          "base_uri": "https://localhost:8080/"
        },
        "id": "tFz9Tb0I9hE4",
        "outputId": "1c3b3528-54ae-4ee2-ab04-77429211cbef"
      },
      "outputs": [
        {
          "name": "stdout",
          "output_type": "stream",
          "text": [
            "1/1 [==============================] - 0s 85ms/step\n",
            "[0.07631861 0.85759425 0.06608707]\n",
            "1\n"
          ]
        }
      ],
      "source": [
        "# Inference test\n",
        "predict_result = model.predict(np.array([X_test[0]]))\n",
        "print(np.squeeze(predict_result))\n",
        "print(np.argmax(np.squeeze(predict_result)))"
      ]
    },
    {
      "cell_type": "markdown",
      "metadata": {
        "id": "S3U4yNWx9hE4"
      },
      "source": [
        "# Confusion matrix"
      ]
    },
    {
      "cell_type": "code",
      "execution_count": 59,
      "metadata": {
        "colab": {
          "base_uri": "https://localhost:8080/",
          "height": 582
        },
        "id": "AP1V6SCk9hE5",
        "outputId": "08e41a80-7a4a-4619-8125-ecc371368d19"
      },
      "outputs": [
        {
          "name": "stdout",
          "output_type": "stream",
          "text": [
            "30/30 [==============================] - 0s 1ms/step\n"
          ]
        },
        {
          "data": {
            "image/png": "[encoded data removed]",
            "text/plain": [
              "<Figure size 700x600 with 2 Axes>"
            ]
          },
          "metadata": {},
          "output_type": "display_data"
        },
        {
          "name": "stdout",
          "output_type": "stream",
          "text": [
            "Classification Report\n",
            "              precision    recall  f1-score   support\n",
            "\n",
            "           0       0.99      0.98      0.98       406\n",
            "           1       0.99      0.98      0.99       377\n",
            "           2       0.94      1.00      0.97       158\n",
            "\n",
            "    accuracy                           0.98       941\n",
            "   macro avg       0.98      0.99      0.98       941\n",
            "weighted avg       0.98      0.98      0.98       941\n",
            "\n"
          ]
        }
      ],
      "source": [
        "import pandas as pd\n",
        "import seaborn as sns\n",
        "import matplotlib.pyplot as plt\n",
        "from sklearn.metrics import confusion_matrix, classification_report\n",
        "\n",
        "def print_confusion_matrix(y_true, y_pred, report=True):\n",
        "    labels = sorted(list(set(y_true)))\n",
        "    cmx_data = confusion_matrix(y_true, y_pred, labels=labels)\n",
        "    \n",
        "    df_cmx = pd.DataFrame(cmx_data, index=labels, columns=labels)\n",
        " \n",
        "    fig, ax = plt.subplots(figsize=(7, 6))\n",
        "    sns.heatmap(df_cmx, annot=True, fmt='g' ,square=False)\n",
        "    ax.set_ylim(len(set(y_true)), 0)\n",
        "    plt.show()\n",
        "    \n",
        "    if report:\n",
        "        print('Classification Report')\n",
        "        print(classification_report(y_test, y_pred))\n",
        "\n",
        "Y_pred = model.predict(X_test)\n",
        "y_pred = np.argmax(Y_pred, axis=1)\n",
        "\n",
        "print_confusion_matrix(y_test, y_pred)"
      ]
    },
    {
      "cell_type": "markdown",
      "metadata": {
        "id": "FNP6aqzc9hE5"
      },
      "source": [
        "# Convert to model for Tensorflow-Lite"
      ]
    },
    {
      "cell_type": "code",
      "execution_count": 60,
      "metadata": {
        "id": "ODjnYyld9hE6"
      },
      "outputs": [],
      "source": [
        "# Save as a model dedicated to inference\n",
        "model.save(model_save_path, include_optimizer=False)"
      ]
    },
    {
      "cell_type": "code",
      "execution_count": 61,
      "metadata": {
        "colab": {
          "base_uri": "https://localhost:8080/"
        },
        "id": "zRfuK8Y59hE6",
        "outputId": "a4ca585c-b5d5-4244-8291-8674063209bb"
      },
      "outputs": [
        {
          "name": "stderr",
          "output_type": "stream",
          "text": [
            "WARNING:absl:Found untraced functions such as _update_step_xla while saving (showing 1 of 1). These functions will not be directly callable after loading.\n"
          ]
        },
        {
          "name": "stdout",
          "output_type": "stream",
          "text": [
            "INFO:tensorflow:Assets written to: C:\\Users\\216C~1\\AppData\\Local\\Temp\\tmpxq6dzu7r\\assets\n"
          ]
        },
        {
          "name": "stderr",
          "output_type": "stream",
          "text": [
            "INFO:tensorflow:Assets written to: C:\\Users\\216C~1\\AppData\\Local\\Temp\\tmpxq6dzu7r\\assets\n"
          ]
        },
        {
          "data": {
            "text/plain": [
              "6564"
            ]
          },
          "execution_count": 61,
          "metadata": {},
          "output_type": "execute_result"
        }
      ],
      "source": [
        "# Transform model (quantization)\n",
        "\n",
        "converter = tf.lite.TFLiteConverter.from_keras_model(model)\n",
        "converter.optimizations = [tf.lite.Optimize.DEFAULT]\n",
        "tflite_quantized_model = converter.convert()\n",
        "\n",
        "open(tflite_save_path, 'wb').write(tflite_quantized_model)"
      ]
    },
    {
      "cell_type": "markdown",
      "metadata": {
        "id": "CHBPBXdx9hE6"
      },
      "source": [
        "# Inference test"
      ]
    },
    {
      "cell_type": "code",
      "execution_count": 62,
      "metadata": {
        "id": "mGAzLocO9hE7"
      },
      "outputs": [],
      "source": [
        "interpreter = tf.lite.Interpreter(model_path=tflite_save_path)\n",
        "interpreter.allocate_tensors()"
      ]
    },
    {
      "cell_type": "code",
      "execution_count": 63,
      "metadata": {
        "id": "oQuDK8YS9hE7"
      },
      "outputs": [],
      "source": [
        "# Get I / O tensor\n",
        "input_details = interpreter.get_input_details()\n",
        "output_details = interpreter.get_output_details()"
      ]
    },
    {
      "cell_type": "code",
      "execution_count": 64,
      "metadata": {
        "id": "2_ixAf_l9hE7"
      },
      "outputs": [],
      "source": [
        "interpreter.set_tensor(input_details[0]['index'], np.array([X_test[0]]))"
      ]
    },
    {
      "cell_type": "code",
      "execution_count": 65,
      "metadata": {
        "colab": {
          "base_uri": "https://localhost:8080/"
        },
        "id": "s4FoAnuc9hE7",
        "outputId": "91f18257-8d8b-4ef3-c558-e9b5f94fabbf",
        "scrolled": true
      },
      "outputs": [
        {
          "name": "stdout",
          "output_type": "stream",
          "text": [
            "CPU times: total: 0 ns\n",
            "Wall time: 0 ns\n"
          ]
        }
      ],
      "source": [
        "%%time\n",
        "# Inference implementation\n",
        "interpreter.invoke()\n",
        "tflite_results = interpreter.get_tensor(output_details[0]['index'])"
      ]
    },
    {
      "cell_type": "code",
      "execution_count": 66,
      "metadata": {
        "colab": {
          "base_uri": "https://localhost:8080/"
        },
        "id": "vONjp19J9hE8",
        "outputId": "77205e24-fd00-42c4-f7b6-e06e527c2cba"
      },
      "outputs": [
        {
          "name": "stdout",
          "output_type": "stream",
          "text": [
            "[0.07631863 0.85759425 0.06608705]\n",
            "1\n"
          ]
        }
      ],
      "source": [
        "print(np.squeeze(tflite_results))\n",
        "print(np.argmax(np.squeeze(tflite_results)))"
      ]
    }
  ],
  "metadata": {
    "accelerator": "GPU",
    "colab": {
      "collapsed_sections": [],
      "name": "keypoint_classification_EN.ipynb",
      "provenance": [],
      "toc_visible": true
    },
    "kernelspec": {
      "display_name": "Python 3.10.7 64-bit",
      "language": "python",
      "name": "python3"
    },
    "language_info": {
      "codemirror_mode": {
        "name": "ipython",
        "version": 3
      },
      "file_extension": ".py",
      "mimetype": "text/x-python",
      "name": "python",
      "nbconvert_exporter": "python",
      "pygments_lexer": "ipython3",
      "version": "3.10.7"
    },
    "vscode": {
      "interpreter": {
        "hash": "369f2c481f4da34e4445cda3fffd2e751bd1c4d706f27375911949ba6bb62e1c"
      }
    }
  },
  "nbformat": 4,
  "nbformat_minor": 0
}
